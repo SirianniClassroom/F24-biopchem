{
 "cells": [
  {
   "cell_type": "markdown",
   "id": "26850051-68fe-441f-8030-30fb3591b6b7",
   "metadata": {},
   "source": [
    "Problem Set 2: Free Particles & Postulates of Quantum Mechanics\n",
    "===\n",
    "\n",
    "Correctly solve the problems listed below to earn the following badges at their indicated level.\n",
    "\n",
    "| Badge                  | Discipline | Bronze                                           | Iron                   | Damascus    |\n",
    "|------------------------|------------|--------------------------------------------------|------------------------|-------------|\n",
    "| Python Syntax          | CI/Lab     | Any six problems                                 | 3-26                   | Challenge   |\n",
    "| Python Troubleshooting | CI/Lab     |                                                  | 3-26                   | Challenge   |\n",
    "| Symbolic Algebra       | CI/Lab     | 3-20, 3-21, 3-27, 3-24, 3-32, 4-6                | 3-28                   | Challenge   | \n",
    "| Symbolic Calculus      | CI/Lab     | 3-3, 3-11 or 3-12, 3-20 or 3-21, 3-32            | 3-25, 4-8              |             | \n",
    "| Free Particle Systems  | QM         | 3-6, 3-11, 3-12, 3-20 or 3-21, 3-24              | 3-22, 3-26, 3-27, 3-28 | + 3-32      |\n",
    "| Postulates of QM       | QM         | 3-16, 4-2, 4-6, 4-7                              | + 4-8, 4-9             |             |\n",
    "| Approximate QM Methods | QM         |                                                  |                        | Challenge   |\n",
    "\n",
    "## Resources\n",
    "- [MolSSI Workshop: Python Scripting for Computational Molecular Sciences](https://education.molssi.org/python_scripting_cms/)\n",
    "- [MolSSI CMS Python Workshop: Introduction](https://education.molssi.org/python_scripting_cms/01-introduction/index.html)\n",
    "- [Algebra with SymPy Documentation](https://gutow.github.io/Algebra_with_Sympy/algebra_with_sympy.html)\n",
    "- [Demonstrations of `algebra_with_sympy` functionality with the `Equation` class](https://gutow.github.io/Algebra_with_Sympy/Demonstration%20of%20equation%20class.html)\n",
    "\n",
    "## References\n",
    "Questions taken or adapted from:\n",
    "1. McQuarrie & Simon, _Physical Chemistry: A Molecular Approach_, 2nd Ed.\n",
    "2. Straub, _Mathematical Methods for Molecular Science_, 1st Ed. \n",
    "  \n",
    "## Directions\n",
    "\n",
    "Each of the problems below may contribute to one or several of the badges above, which is indicated next to the problem number."
   ]
  },
  {
   "cell_type": "code",
   "execution_count": 1,
   "id": "490696da-b424-4019-99d9-dd90eb002884",
   "metadata": {},
   "outputs": [
    {
     "name": "stdout",
     "output_type": "stream",
     "text": [
      "This notebook is running Algebra_with_Sympy version 1.1.2.\n"
     ]
    }
   ],
   "source": [
    "# EXECUTE: Import some packages that we will use later\n",
    "from algebra_with_sympy import * # Automatically imports sympy\n",
    "print(\"This notebook is running Algebra_with_Sympy version \" + str(algwsym_version)+\".\")"
   ]
  },
  {
   "cell_type": "code",
   "execution_count": 2,
   "id": "6912b2fd-de8e-44aa-8828-edc6e97c918f",
   "metadata": {},
   "outputs": [],
   "source": [
    "# EXECUTE: Dr. Sirianni wrote this as a helper function, which you can use (or not) if you want.\n",
    "def solve_and_evaluate(eqn, subs, solvvar):\n",
    "    \"\"\"Returns numerical value of variable `solvvar` when equation `eqn` is substituted with values `subs`.\n",
    "\n",
    "    Parameters\n",
    "    ----------\n",
    "    eqn : algebra_with_sympy.Equation\n",
    "        The equation to solve and evaluate\n",
    "    subs : dict\n",
    "        Dictionary of all substitutions to make\n",
    "    solvvar : algebra_with_sympy.Symbol\n",
    "        Variable to solve for and numerically evaluate\n",
    "\n",
    "    Returns\n",
    "    -------\n",
    "    val : sympy.core.mul.Mul\n",
    "        Numerical value of `solvvar` when `eqn` substituted with values in `subs`\n",
    "\n",
    "    Examples\n",
    "    --------\n",
    "    1. Producing a numerical solution with units attached\n",
    "    >>> var('c lamda nu')\n",
    "    >>> units('m s')\n",
    "    >>> light =@ c = lamda*nu\n",
    "    >>> solve_and_evaluate(light, {c: 2.99792458E8*m/s, lamda: 230E-9*m}, nu)\n",
    "    >>> print(freq)\n",
    "        1.30344546956522e+15/s\n",
    "    \"\"\"\n",
    "    # Substitute & solve equation for desired variable\n",
    "    subbed_eqn = eqn.subs(subs)\n",
    "    rearr_eqn = solve(subbed_eqn, solvvar)\n",
    "    # Cast solved equation to string, strip solution brackets & formatting\n",
    "    strrepr = str(rearr_eqn).lstrip('{'+str(solvvar)+' = ').rstrip('}')\n",
    "    return sympify(strrepr)   "
   ]
  },
  {
   "cell_type": "code",
   "execution_count": 3,
   "id": "6ef48a7f-7c8a-42f2-b5f5-54066315125f",
   "metadata": {},
   "outputs": [],
   "source": [
    "# EXECUTE: Define Python variables corresponding to fundamental constants & conversion factors for convenience\n",
    "# Units for fundamental constants\n",
    "units('kg m s J C eV V')\n",
    "\n",
    "# Fundamental constants from inside cover of the book\n",
    "h_val = 6.6260755E-34*J*s\n",
    "hbar_val = h_val / 2*pi\n",
    "c_val = 2.99792458E8*m/s\n",
    "e_val = 1.60217733E-19*C\n",
    "epsilon_0_val = 8.854187816E-12 * C**2 / J / m\n",
    "m_e_val = 9.1093897E-31*kg\n",
    "m_p_val = 1.6726231E-27*kg\n",
    "R_H_val = 109680 / (1E-2*m)\n",
    "\n",
    "# Derived unit definitions\n",
    "J_def =@ 1*J = 1*kg*m**2 / s**2\n",
    "eV_def =@ 1*eV = 1*C*V\n",
    "\n",
    "# Numerical conversion factors\n",
    "eV2J = 1.602E-19*J/eV"
   ]
  },
  {
   "cell_type": "markdown",
   "id": "1c7e0f9e-37e4-4d38-b6f3-45fb6c0f0fd0",
   "metadata": {},
   "source": [
    "### Problem 3-1\n",
    "\n",
    "Evaluate $g = \\hat{A}f$, where $\\hat{A}$ and $f$ are given below:\n",
    "\n",
    "|     | $$\\hat{A}$$                | $$f$$            |\n",
    "|-----|----------------------------|------------------|\n",
    "| (a) | SQRT = $\\sqrt{\\;\\;\\;}$     | $$x^4$$          |\n",
    "| (b) | $$\\frac{d^3}{dx^3} + x^3$$ | $$e^{-ax}$$      |\n",
    "| (c) | $$\\int_0^1 dx$$            | $$x^3 - 2x + 3$$ |\n",
    "| (d) | $$\\nabla^2$$               | $$x^3 y^2 z^4$$  |\n",
    "\n",
    "#### Hints:\n",
    "- Use `exp(u)` to encode the exponential function $e^u$\n",
    "- To evaluate the definite integral of a named equation `eq` with respect to variable `var` between lower bound `lbound` and upper bound `ubound`, the syntax is:\n",
    "    >```python\n",
    "    >integrate(eq, (var, lbound, ubound))\n",
    "    >```"
   ]
  },
  {
   "cell_type": "markdown",
   "id": "26678b35-1eed-4d8b-99d7-b741ffb1059e",
   "metadata": {},
   "source": [
    "### Problem 3-3\n",
    "\n",
    "In each case, show that $f(x)$ is an eigenfunction of the operator given, and find the eigenvalue.\n",
    "\n",
    "|     | $$\\hat{A}$$                              | $$f(x)$$           |\n",
    "|-----|------------------------------------------|--------------------|\n",
    "| (a) | $$\\frac{d^2}{dx^2}$$                     | $$\\cos{\\omega x}$$ |\n",
    "| (b) | $$\\frac{d}{dt}$$                         | $$e^{-i\\omega t}$$ |\n",
    "| (c) | $$\\frac{d^2}{dx^2} + 2\\frac{d}{dx} + 3$$ | $$e^{\\alpha x}$$   |\n",
    "| (d) | $$\\frac{\\partial}{\\partial y}$$          | $$x^2 e^{6y}$$     |\n",
    "\n",
    "#### Hints:\n",
    "- First apply the operator, then use `g.collect(term)` if necessary to \"factor out\" common terms to determine if the result $g(x) = \\hat{A}f(x)$ is a constant multiple of $f(x)$.\n",
    "- After showing that $f(x)$ is an eigenfunction, find the eigenvalue by dividing the result $g(x)$ by the function $f(x)$."
   ]
  },
  {
   "cell_type": "markdown",
   "id": "9c329afa-4cb7-456f-af86-b869cc175e2b",
   "metadata": {},
   "source": [
    "### Problem 3-6\n",
    "\n",
    "Using the free electron model for the six $\\pi$ electrons of all-_entgegen_ hexatriene, show that the first electronic transition is predicted to occur at $2.8\\times 10^4 {\\rm\\ cm}^{-1}$. You may assume the length of hexatriene is 867 pm.\n",
    "\n",
    "#### Hints\n",
    "- If you want to use the cursive symbol $\\ell$ as a variable in your equations, you can declare it with `var('ell')`\n",
    "- If you want to define the variable $\\Delta E$, do so by setting\n",
    "    >```python\n",
    "    >DE = Symbol(\"\\Delta E\")\n",
    "    >```\n",
    "    \n",
    "    Then, `DE` can be used in your SymPy equations to produce the formatted variable $\\Delta E$ _without including it in a further variable declaration_ (i.e., without `var('DE')`)"
   ]
  },
  {
   "cell_type": "markdown",
   "id": "61c67a21-6a86-42a1-814c-08cb1a4e6468",
   "metadata": {},
   "source": [
    "### Problem 3-11\n",
    "\n",
    "Show that $\\langle\\hat{X}\\rangle = \\frac{\\ell}{2}$ for all the states of a particle in a 1D box. Is this result physically reasonable?\n",
    "\n",
    "#### Hints:\n",
    "- When you declare your math variables, use the extra Boolean arguments below to specifically define constraints on the values that each can assume. That way, your integrals will actually evaluate instead of being super arbitrary.\n",
    "    * `real=True`: Defines a variable to be real, i.e., not complex or purely imaginary.\n",
    "    * `positive=True`: Defines a variable to be non-negative, i.e., $u\\geq 0$ for the variable $u$\n",
    "    * `nonzero=True`: Defines a variable to be non-zero, i.e., $u\\neq 0$ for the variable $u$\n",
    "    * `integer=True`: Defines a variable which can only be an integer, i.e., $\\{0, \\pm 1, \\pm 2, \\ldots\\}$\n",
    " \n",
    "    For example, to declare a variable $u$ which is an integer greater than zero, use\n",
    "    >```python\n",
    "    >var('u', integer=True, positive=True, nonzero=True)\n",
    "    >```\n",
    "- To evaluate the complex conjugate of a declared equation `eq`, use `eq.conjugate()`.\n",
    "- See hint for Problem 3-1 to remind yourself how to compute a definite integral"
   ]
  },
  {
   "cell_type": "markdown",
   "id": "869c9578-bf03-4e26-87e1-d321f20bdfaf",
   "metadata": {},
   "source": [
    "##### Student Response Box: Is the result above physically reasonable?\n",
    "> Type your answer here!"
   ]
  },
  {
   "cell_type": "markdown",
   "id": "9a15270c-5ee2-409e-ab2b-263b173374e1",
   "metadata": {},
   "source": [
    "### Problem 3-12\n",
    "Show that $\\langle\\hat{P}\\rangle = 0$ for all eigenstates of a one-dimensional box of length $\\ell$."
   ]
  },
  {
   "cell_type": "markdown",
   "id": "d2bbad41-e235-455e-8120-89d925c324f3",
   "metadata": {},
   "source": [
    "### Problem 3-16\n",
    "\n",
    "Prove that the 1D particle-in-a-box wavefunctions are _orthonormal_, i.e., that they satisfy the relationship\n",
    "\n",
    "$$\\int_0^{\\ell} \\psi_n^{\\ast}(x)\\psi_m(x) dx = \\delta_{nm} = \\begin{cases}0;\\;\\;\\; m\\neq n\\\\ 1;\\;\\;\\; m = n\\end{cases}$$\n",
    "\n",
    "where $\\delta_{nm}$ is called the _Kroenecker delta function_.\n",
    "\n",
    "#### Hints:\n",
    "- Define two different functions for $\\psi_n(x)$ and $\\psi_m(x)$, where both $n$ and $m$ are declared as positive, nonzero integers. Then just directly integrate and let SymPy handle the cases."
   ]
  },
  {
   "cell_type": "markdown",
   "id": "18f7a4e9-bff2-482e-8ad4-ce781492c5ca",
   "metadata": {},
   "source": [
    "### Problem 3-20\n",
    "\n",
    "Calculate $\\langle\\hat{X}\\rangle$ and $\\langle\\hat{X}^2\\rangle$ for the $n=2$ state of a 1D particle in a box of length $\\ell$. Show that \n",
    "$$\\sigma_x = \\frac{\\ell}{4\\pi}\\left(\\frac{4\\pi^2}{3} - 2\\right)^{1/2}$$\n",
    "\n",
    "#### Hints:\n",
    "- Make sure you specify that $\\ell\\geq 0$ and $x\\geq 0$ by explicitly passing `real=True` and `positive=True` to your variable declaration with `var()`.\n",
    "- Define a \"test\" equation for the expression for $\\sigma_x$ above, then derive *your own* expression for $\\sigma_x$ and compare them with `test_sigma_x.equals(your_sigma_x)`."
   ]
  },
  {
   "cell_type": "markdown",
   "id": "42d01b5e-281b-4270-af91-b20f0108469c",
   "metadata": {},
   "source": [
    "### Problem 3-21\n",
    "\n",
    "Calculate $\\langle\\hat{P}\\rangle$ and $\\langle\\hat{P}^2\\rangle$ for the $n=2$ state of a 1D particle in a box of length $\\ell$. Show that \n",
    "$$\\sigma_p = \\frac{h}{\\ell}$$"
   ]
  },
  {
   "cell_type": "markdown",
   "id": "c26ce7fa-ac5b-4ff7-b71f-10f3de069f35",
   "metadata": {},
   "source": [
    "### Problem 3-22\n",
    "\n",
    "Consider a particle of mass $m$ in a one-dimensional box of length $\\ell$. Its average energy is given by\n",
    "$$\\langle E\\rangle = \\langle\\hat{H}\\rangle = \\frac{1}{2m}\\langle\\hat{P}^2\\rangle.$$\n",
    "Based on the result from Problem 3-12, the variance in momentum for any eigenstate will be given by $\\sigma_p^2 = \\langle\\hat{P}^2\\rangle$. Using the Uncertainty Principle, show that\n",
    "$$E_n \\geq \\frac{\\hbar^2}{8m\\ell^2}$$\n",
    "because $\\sigma_x\\leq\\ell$.\n",
    "\n",
    "#### Hints:\n",
    "- If you want to define a variable for the expectation value of the square of an operator, $\\langle A^2\\rangle$, do so with\n",
    "    >```python\n",
    "    >A2avg = Symbol('\\langle A^{2} \\\\rangle')\n",
    "    >```\n",
    "- Starting from the uncertainty relationship $\\sigma_x\\sigma_p\\geq \\frac{\\hbar}{2}$, solve for the standartd deviation (and then variance) in momentum based on the fact that $\\sigma_x\\leq\\ell$.\n",
    "- Determine the relationship between $E_n$ and $\\langle E\\rangle\\propto\\langle P^2\\rangle$, then substitute in your expression for $\\sigma^2_p$.\n",
    "- As always for inequalities, set up your expressions as _equalities_, and use code comments to indicate the direction of your inequality."
   ]
  },
  {
   "cell_type": "markdown",
   "id": "d44ba884-2af9-4978-bfbc-e8ea206be2c7",
   "metadata": {},
   "source": [
    "### Problem 3-24\n",
    "\n",
    "Show that the normalized wavefunction for a particle in a three-dimensional box with sides of length $\\ell_x$, $\\ell_y$, and $\\ell_z$ is\n",
    "$$\\psi_{n_x n_y n_z}(x, y, z) = \\left(\\frac{8}{l_x l_y l_z}\\right)^{1/2}\\sin{\\frac{n_x\\pi x}{\\ell_x}}\\sin{\\frac{n_y\\pi y}{\\ell_y}}\\sin{\\frac{n_z\\pi z}{\\ell_z}}$$\n",
    "\n",
    "#### Hints\n",
    "- To show that $\\psi_{n_x n_y n_z}(x, y, z)$ is a 3D PiB wavefunction, show that it satisfies the TIWE for the 3D PiB (cf. Problem 1-3)\n",
    "- To show that $\\psi_{n_x n_y n_z}(x, y, z)$ is normalized, evaluate the normalization integral (cf. Problem 3-16)\n",
    "    * Make sure the constraints on your variables' values are defined when you declare them with `var(...)`.\n",
    "    * To perform the multidimensional integral\n",
    "    $$\\int_{x_1}^{x_2}\\int_{y_1}^{y_2}\\int_{z_1}^{z_2} dx\\ dy\\ dz\\ f(x,y,z)$$\n",
    "    just include more bounds in your call to `integrate(...)` like:\n",
    "    >```python\n",
    "    >integrate(f,(x,x1,x2),(y,y1,y2),(z,z1,z2))\n",
    "    >```"
   ]
  },
  {
   "cell_type": "markdown",
   "id": "55c11256-f2cd-40b8-a2fa-a72b234ab883",
   "metadata": {},
   "source": [
    "### Problem 3-25\n",
    "\n",
    "Show that \n",
    "$$\\langle\\vec{p}\\rangle = \\langle\\hat{P}\\rangle = \\vec{0}$$ \n",
    "where $\\vec{0}$ is the _zero vector_ representing a vector with neither direction nor magnitude, for the ground state of a particle in a 3D box with sides of length $\\ell_x$, $\\ell_y$, and $\\ell_z$.\n",
    "\n",
    "#### Hints:\n",
    "- Compute the elements of $\\langle\\vec{p}\\rangle$ from a separation of the total expectation value into three separate integrals over a single variable.\n",
    "- A 3D Cartesian vector $\\vec{v} = v_x\\vec{i} + v_y\\vec{j} + v_z\\vec{k}$ can be constructed in SymPy by using\n",
    "    >```python\n",
    "    >from sympy.vector import CoordSys3D\n",
    "    >N = CoordSys3D('N')\n",
    "    >v = v_x*N.i + v_y*N.j + v_z*N.k    # v_x, v_y, & v_z must have been computed previously\n",
    "    >```\n",
    "- When pretty-printed with SymPy, vectors are represented as bold-faced and wearing hats, i.e., $\\vec{v}$ would be pretty-printed as $\\hat{\\bf v}$."
   ]
  },
  {
   "cell_type": "markdown",
   "id": "6c5ab961-ac29-40bb-a7bf-9b117c9343a0",
   "metadata": {},
   "source": [
    "### Problem 3-26\n",
    "\n",
    "What are the energies and degeneracies of the first four energy levels for a particle in a 3D box with $\\ell_x = \\ell_y = 1.5\\ell_z$?\n",
    "\n",
    "#### Hints:\n",
    "- Define the energy for a particle in a 3d box with arbitrary side lengths, then substitute such that $\\ell_x = \\ell_y = 1.5\\ell_z$.\n",
    "- Write a triply-nested Python for-loop that computes energies for different combinations of $n_x$, $n_y$, and $n_z$, stores those energies in a dictionary with `tuple` keys `(n_x, n_y, n_z)`, and sort your dictionary based on its values. You can use the [pseudocode](https://en.wikipedia.org/wiki/Pseudocode) below to guide your implementation:\n",
    "    >```\n",
    "    >factor = h^2 / (l^2 m_e)                       // Common multiplicative factor to divide out of computed energies\n",
    "    >E_levels := Dictionary()                       // Declares empty dictionary to populate with computed energy levels\n",
    "    >for i in 1, 2, 3, ...; do {\n",
    "    >    for j in 1, 2, 3, ...; do {\n",
    "    >        for k in 1, 2, 3, ...; do {\n",
    "    >            energy =: E(n_x=i, n_y=j, n_z=k)   // Substitute values into pre-defined function for 3D PiB energy\n",
    "    >            energy =: energy / factor as float // Simplify energyand cast to a floating point number\n",
    "    >            E_levels[Tuple[i,j,k]] =: energy   // Store energy in dictionary with tuple key\n",
    "    >        }\n",
    "    >    }\n",
    "    >}\n",
    "    >\n",
    "    >sorted_levels := sort E_levels by value        // See extra hint below describing how to figure out how to do this\n",
    "    >redirect sorted_levels >> stdout               // Print your sorted dictionary\n",
    "- To fingure out how to sort your energy level dictionary by its values:\n",
    "    * Google the phrase \"python sort dict by values\"\n",
    "    * The first result should be a page on Stack Overflow whose title is the question \"How do I sort a dictionary by value?\" which was first asked approximately 15 years and 7 months ago.\n",
    "    * Scroll down to the most-upvoted answer, titled \"Python 3.7+ or CPython 3.6,\" which as of writing this hint has 6996 upvotes.\n",
    "    * Copy the second line of code from the answer's first code-formatted box, paste it in your code cell, and change the name of the dummy dictionary in the answer to the name of your energy-levels dictionary.\n",
    "- Using your printed dictionary of sorted levels, report in a Markdown cell (either as a list or a table):\n",
    "    * (a) The energies of the first four levels, including the multiplicative factor $\\frac{h^2}{\\ell^2 m_e}$,\n",
    "    * (b) All values of $n_x$, $n_y$, and $n_z$ leading to these first four energy levels, and\n",
    "    * (b) The degeneracies of these first four energy levels."
   ]
  },
  {
   "cell_type": "markdown",
   "id": "829675a1-b6a0-48eb-9240-a806be9a2089",
   "metadata": {},
   "source": [
    "### Problem 3-27\n",
    "\n",
    "Many proteins contain metalloporphyryns, and the general structure of the free porphyrin molecule is \n",
    "\n",
    "<img src=\"https://upload.wikimedia.org/wikipedia/commons/5/5c/Porphyrin.svg\" width=\"200\" height=\"200\" />\n",
    "\n",
    "This molecule is planar, and so we can approximate the $\\pi$ electrons as being confined inside a square. \n",
    "- (a) What combination of $n_x$ and $n_y$ produce the lowest two energy levels for a particle in a square of length $\\ell$?\n",
    "- (b) What are the degeneracies for these first two energy levels?\n",
    "- (c) The porphyrin molecule has 26 $\\pi$ electrons. If we approximate the length of the molecule to be 1000pm, what would be the predicted lowest energy absorption of the porphyrin molecule? (The experimental value is $\\lambda\\approx 17000 {\\rm\\ cm}^{-1}$)."
   ]
  },
  {
   "cell_type": "markdown",
   "id": "67552224-b01c-4e3a-bff2-55101f64d379",
   "metadata": {},
   "source": [
    "### Problem 3-28\n",
    "\n",
    "The TIWE for a particle of mass $m$ constrained to move in a circle of radius $a$ is\n",
    "$$-\\frac{\\hbar^2}{2I}\\frac{d^2}{d\\theta^2}\\psi(\\theta) = E\\psi(\\theta)$$\n",
    "where $I = ma^2$ is the moment of inertia and $\\theta$ is the angle that describes the position of the particle around the ring. Show by direct substitution that the solutions to this equation are\n",
    "$$\\psi(\\theta) = Ae^{in\\theta}$$\n",
    "where $n = \\pm\\sqrt{2IE}/\\hbar$. Using the boundary conditions $\\psi(\\theta) = \\psi(\\theta+2\\pi)$, and the Euler formula \n",
    "$$e^{i\\theta} = cos{\\theta} + i\\sin{\\theta},$$\n",
    "show that\n",
    "$$E_n = \\frac{n^2\\hbar^2}{2I};\\;\\; n=0,\\,\\pm 1,\\, \\pm 2,\\ldots$$\n",
    "Then, show that the normalization constant $A$ is $1/\\sqrt{2\\pi}$.  Using this model, what wavelength of light would need to be absorbed to drive the $\\pi^{\\ast}_4\\leftarrow\\pi_3$ transition in benzene?"
   ]
  },
  {
   "cell_type": "markdown",
   "id": "87c4a9d0-c5cf-46f0-a4c9-7556e322d42c",
   "metadata": {},
   "source": [
    "### Problem 3-32\n",
    "\n",
    "Quantization in the 1D PiB arises as a result of confinement, so let's consider a truly free particle, i.e., one for which the potential is equal to $V(x) = 0;\\,\\, -\\infty < x < \\infty$. \n",
    "#### Part (a)\n",
    "Show that the following two functions are solutions to the TIWE for this system:\n",
    "\\begin{align}\n",
    "\\psi_1(x) &= A_1 e^{+ix\\sqrt{2mE}/\\hbar} = A_1 e^{+ikx}\\\\\n",
    "\\psi_2(x) &= A_2 e^{-ix\\sqrt{2mE}/\\hbar} = A_2 e^{-ikx},\n",
    "\\end{align}\n",
    "where $E\\geq 0$ and\n",
    "$$k = \\frac{\\sqrt{2mE}}{\\hbar}$$\n",
    "\n",
    "#### Part (b)\n",
    "Next, show that $\\vert\\psi_1\\rangle$ and $\\vert\\psi_2\\rangle$ are both eigenstates of the momentum operator with eigenvalues $\\hbar k$ and $-\\hbar k$, respectively, by direct substitution. What does this mean physically about the particle's \"movement\" when described by either $\\vert\\psi_1\\rangle$ or $\\vert\\psi_2\\rangle$?\n",
    "\n",
    "#### Part (c)\n",
    "Show that because there are no restrictions on $k$, the particle can have any value of momentum (so long as it is a stationary value) and that the particle energy is given by\n",
    "$$E = \\frac{\\hbar^2 k^2}{2m}$$\n",
    "\n",
    "#### Part (d)\n",
    "The probability distribution function $\\psi_i^{\\ast}(x)\\psi_i(x) = A_i^{\\ast}A_i = \\vert A_i\\vert^2 = {\\rm\\ constant}$. Are there any possible values for these constants that would normalize the wavefunctions $\\vert\\psi_1\\rangle$ and $\\vert\\psi_2\\rangle$ over all possible positions?\n",
    "\n",
    "#### Part (e)\n",
    "Determine the uncertainty in both position and momentum ($\\sigma_x$ and $\\sigma_p$) for $\\vert\\psi_1\\rangle$ and $\\vert\\psi_2\\rangle$. Is this consistent with the uncertainty principle?"
   ]
  },
  {
   "cell_type": "markdown",
   "id": "653f6c94-e0b3-4c89-baf7-0d174f2fd56d",
   "metadata": {},
   "source": [
    "### Problem 4-2\n",
    "\n",
    "Which of the following wavefunctions are normalized over the indicated two-dimensional intervals? If they are not normalized, determine their normalization constant.\n",
    "\n",
    "| Part | Wavefunction           | Interval |\n",
    "|------|------------------------|----------|\n",
    "| (a)  | $$e^{-(x^2 + y^2)/2}$$ | $$\\begin{align}0&\\leq x < \\infty\\\\ 0&\\leq y < \\infty\\end{align}$$ |\n",
    "| (b)  | $$e^{-(x+y)/2}$$       | $$\\begin{align}0&\\leq x < \\infty\\\\ 0&\\leq y < \\infty\\end{align}$$ |\n",
    "| (c)  | $$\\left(\\frac{4}{ab}\\right)^{1/2} \\sin{\\frac{\\pi x}{a}}\\sin{\\frac{\\pi y}{b}}$$ | $$\\begin{align}0&\\leq x\\leq a\\\\ 0&\\leq y \\leq b\\end{align}$$ |"
   ]
  },
  {
   "cell_type": "markdown",
   "id": "c9de79a9-b965-4f3a-a4a7-e77493f233bc",
   "metadata": {},
   "source": [
    "### Problem 4-6\n",
    "\n",
    "Calculate the values of $\\sigma^2_E = \\langle E^2\\rangle - \\langle E\\rangle^2$ for a particle in a 1D box in the state described by\n",
    "$$\\psi(x) = \\left(\\frac{630}{a^9}\\right)^{1/2} x^2(a - x)^2;\\;\\;\\;\\; 0\\leq x\\leq a$$"
   ]
  },
  {
   "cell_type": "markdown",
   "id": "547238b6-26ab-4a6f-8ed1-9afced865167",
   "metadata": {},
   "source": [
    "### Problem 4-7\n",
    "\n",
    "Consider a free particle constrained to move over the rectangular region $0\\leq x\\leq a$, $0\\leq y\\leq b$. Show that if the system is in one of its energy eigenstates, then the variance in the average energy of the particle is zero."
   ]
  },
  {
   "cell_type": "markdown",
   "id": "c9e2e1bd-8214-489a-bc5e-8b1498107dee",
   "metadata": {},
   "source": [
    "### Problem 4-8\n",
    "\n",
    "The momentum operator in 2D Cartesian space is\n",
    "$$\\hat{\\bf P} = -i\\hbar\\nabla = -i\\hbar\\left(\\vec{i}\\frac{\\partial}{\\partial x} + \\vec{j}\\frac{\\partial}{\\partial y}\\right)$$\n",
    "Calculate the value of $\\langle p\\rangle$ for the particle described in Problem 4-7 above. How does your finding compare with the 1-dimensional case?"
   ]
  },
  {
   "cell_type": "markdown",
   "id": "3dc08260-c604-413e-891a-72b7fbd1453e",
   "metadata": {},
   "source": [
    "### Problem 4-9\n",
    "\n",
    "Suppose that a particle in a two-dimensional box (cf. Problem 4-7) is in the state\n",
    "$$\\psi(x,y) = \\frac{30}{(a^5b^5)^{1/2}}x(a-x)y(b-y)$$\n",
    "Show that this wavefunction is normalized, then compute $\\langle E\\rangle$ for the particle described by this wavefunction. How does this compare with $\\langle E\\rangle$ for a particle in the exact ground-state wavefunction for this system?"
   ]
  },
  {
   "cell_type": "markdown",
   "id": "b11d40e5-a982-435e-8669-d56d93b2cd1b",
   "metadata": {},
   "source": [
    "### Challenge: Approximately Solving the Particle in a Slanted Box\n",
    "\n",
    ">Successful completion of this problem immediately earns the following badges:\n",
    ">- Approximate methods in QM: Damascus\n",
    ">- Python Syntax: Damascus\n",
    ">- QM Discipline: Iron\n",
    "\n",
    "Consider the problem of a particle in a one dimensional infinite square well with a slanted bottom, i.e., for which\n",
    "$$V(x) = \\begin{cases}\\frac{V_0 x}{a} & 0\\leq x\\leq a\\\\ \\ \\infty & {\\rm otherwise}\\end{cases}$$\n",
    "Approximate the exact ground-state wavefunction $\\vert\\psi_1\\rangle$ for this system using the method of linear variations (see Ch. 7) with the following trial function:\n",
    "$$\\vert\\psi_1\\rangle = c_1\\vert\\phi_1\\rangle + c_2\\vert\\phi_2\\rangle,$$\n",
    "where $\\vert\\phi_1\\rangle$ and $\\vert\\phi_2\\rangle$ are the first two eigenstates of the \"conventional\" 1D PiB (i.e., with a flat bottom)."
   ]
  }
 ],
 "metadata": {
  "kernelspec": {
   "display_name": "Python 3 (ipykernel)",
   "language": "python",
   "name": "python3"
  },
  "language_info": {
   "codemirror_mode": {
    "name": "ipython",
    "version": 3
   },
   "file_extension": ".py",
   "mimetype": "text/x-python",
   "name": "python",
   "nbconvert_exporter": "python",
   "pygments_lexer": "ipython3",
   "version": "3.11.9"
  }
 },
 "nbformat": 4,
 "nbformat_minor": 5
}
