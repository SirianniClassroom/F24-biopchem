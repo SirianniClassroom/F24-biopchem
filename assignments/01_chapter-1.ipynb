{
 "cells": [
  {
   "cell_type": "markdown",
   "id": "26850051-68fe-441f-8030-30fb3591b6b7",
   "metadata": {},
   "source": [
    "Problem Set 1: Development of Quantum Mechanics (Chapter 1)\n",
    "===\n",
    "\n",
    "## Rubric\n",
    "\n",
    "Correctly solve the problems listed below to earn the following badges at their indicated level.\n",
    "\n",
    "| Badge                  | Discipline | Bronze                                           | Iron        | Damascus |\n",
    "|------------------------|------------|--------------------------------------------------|-------------|----------|\n",
    "| Python Syntax          | CI/Lab     | 1-16, any 6 other problems                       | + Challenge |          |\n",
    "| Symbolic Algebra       | CI/Lab     | 1-18, 1-20, 1-22, 1-25, 1-35, 1-40, 1-44         |             |          |\n",
    "| Early Quantum Theories | QM         | 1-12, (1-16 or 1-18), 1-20, 1-25, (1-35 or 1-40) | + 1-4, 1-22 | + 1-44   |\n",
    "\n",
    "## Resources\n",
    "- [MolSSI Workshop: Python Scripting for Computational Molecular Sciences](https://education.molssi.org/python_scripting_cms/)\n",
    "- [MolSSI CMS Python Workshop: Introduction](https://education.molssi.org/python_scripting_cms/01-introduction/index.html)\n",
    "- [Algebra with SymPy Documentation](https://gutow.github.io/Algebra_with_Sympy/algebra_with_sympy.html)\n",
    "- [Demonstrations of `algebra_with_sympy` functionality with the `Equation` class](https://gutow.github.io/Algebra_with_Sympy/Demonstration%20of%20equation%20class.html)\n",
    "\n",
    "## References\n",
    "1. Questions taken from:\n",
    "   - McQuarrie & Simon, _Physical Chemistry: A Molecular Approach_, 2nd Ed.\n",
    "  \n",
    "## Directions\n",
    "\n",
    "Each of the problems below may contribute to one or several of the badges above, which is indicated next to the problem number."
   ]
  },
  {
   "cell_type": "code",
   "execution_count": null,
   "id": "490696da-b424-4019-99d9-dd90eb002884",
   "metadata": {},
   "outputs": [],
   "source": [
    "# EXECUTE: Import some packages that we will use later\n",
    "from algebra_with_sympy import * # Automatically imports sympy\n",
    "print(\"This notebook is running Algebra_with_Sympy version \" + str(algwsym_version)+\".\")"
   ]
  },
  {
   "cell_type": "code",
   "execution_count": null,
   "id": "6912b2fd-de8e-44aa-8828-edc6e97c918f",
   "metadata": {},
   "outputs": [],
   "source": [
    "# EXECUTE: Dr. Sirianni wrote this as a helper function, which you can use (or not) if you want.\n",
    "def solve_and_evaluate(eqn, subs, solvvar):\n",
    "    \"\"\"Returns numerical value of variable `solvvar` when equation `eqn` is substituted with values `subs`.\n",
    "\n",
    "    Parameters\n",
    "    ----------\n",
    "    eqn : algebra_with_sympy.Equation\n",
    "        The equation to solve and evaluate\n",
    "    subs : dict\n",
    "        Dictionary of all substitutions to make\n",
    "    solvvar : algebra_with_sympy.Symbol\n",
    "        Variable to solve for and numerically evaluate\n",
    "\n",
    "    Returns\n",
    "    -------\n",
    "    val : sympy.core.mul.Mul\n",
    "        Numerical value of `solvvar` when `eqn` substituted with values in `subs`\n",
    "\n",
    "    Examples\n",
    "    --------\n",
    "    1. Producing a numerical solution with units attached\n",
    "    >>> var('c lamda nu')\n",
    "    >>> units('m s')\n",
    "    >>> light =@ c = lamda*nu\n",
    "    >>> solve_and_evaluate(light, {c: 2.99792458E8*m/s, lamda: 230E-9*m}, nu)\n",
    "    >>> print(freq)\n",
    "        1.30344546956522e+15/s\n",
    "    \"\"\"\n",
    "    # Substitute & solve equation for desired variable\n",
    "    subbed_eqn = eqn.subs(subs)\n",
    "    rearr_eqn = solve(subbed_eqn, solvvar)\n",
    "    # Cast solved equation to string, strip solution brackets & formatting\n",
    "    strrepr = str(rearr_eqn).lstrip('{'+str(solvvar)+' = ').rstrip('}')\n",
    "    return sympify(strrepr)   "
   ]
  },
  {
   "cell_type": "code",
   "execution_count": null,
   "id": "6ef48a7f-7c8a-42f2-b5f5-54066315125f",
   "metadata": {},
   "outputs": [],
   "source": [
    "# EXECUTE: Define Python variables corresponding to fundamental constants & conversion factors for convenience\n",
    "# Units for fundamental constants\n",
    "units('kg m s J C eV V')\n",
    "\n",
    "# Fundamental constants from inside cover of the book\n",
    "h_val = 6.6260755E-34*J*s\n",
    "c_val = 2.99792458E8*m/s\n",
    "e_val = 1.60217733E-19*C\n",
    "epsilon_0_val = 8.854187816E-12 * C**2 / J / m\n",
    "m_e_val = 9.1093897E-31*kg\n",
    "m_p_val = 1.6726231E-27*kg\n",
    "R_H_val = 109680 / (1E-2*m)\n",
    "\n",
    "# Derived unit definitions\n",
    "J_def =@ 1*J = 1*kg*m**2 / s**2\n",
    "eV_def =@ 1*eV = 1*C*V\n",
    "\n",
    "# Numerical conversion factors\n",
    "eV2J = 1.602E-19*J/eV"
   ]
  },
  {
   "cell_type": "markdown",
   "id": "779d2479-d089-4f37-ae7f-3b8b49bd632d",
   "metadata": {},
   "source": [
    "### Problem 1-4\n",
    "\n",
    "Planck's principal assumption was that the energies of the electronic oscillators can have only the values $E = nh\\nu$ and that $\\Delta E = h\\nu$. As $\\nu\\rightarrow 0$, then $\\Delta E\\rightarrow 0$ and $E$ is essentially continuous. Thus, we should expect the nonclassical Planck distribution to go over to the classical Rayleigh-Jeans distribution at low frequencies, where $\\Delta E\\rightarrow 0$. \n",
    "\n",
    "Show that the Planck blackbody law\n",
    "\\begin{equation}\n",
    "d\\rho(\\nu, T) = \\rho_\\nu (T) d\\nu = \\frac{8\\pi h}{c^3}\\frac{\\nu^3 d\\nu}{e^{h\\nu / k_{\\rm B}T} - 1}\n",
    "\\end{equation}\n",
    "indeed reduces to the Rayleigh-Jeans law\n",
    "$$d\\rho(\\nu, T) = \\rho_\\nu (T) d\\nu = \\frac{8\\pi k_{\\rm B}T}{c^3} \\nu^2 d\\nu$$\n",
    "as $\\nu\\rightarrow 0$.\n",
    "\n",
    "Hints: \n",
    "1. To declare a variable for the differential $d\\nu$, you first need to define it as an allowed symbol by using\n",
    "    ```python\n",
    "    dnu = Symbol(\"d\\nu\")\n",
    "    ```\n",
    "    Then, `'dnu'` can be declared in your `var()` function like any other variable.\n",
    "3. Use the \"small angle approximation,\" namely that \n",
    "$$e^{x} = 1 + x + \\frac{x^2}{2!} + \\ldots \\approx 1 + x$$\n",
    "for small values of the exponent."
   ]
  },
  {
   "cell_type": "code",
   "execution_count": null,
   "id": "7fb202ea-06f6-4c2c-9764-8190d86126ca",
   "metadata": {},
   "outputs": [],
   "source": []
  },
  {
   "cell_type": "markdown",
   "id": "61778a84-4619-4d29-b695-c5676764fc54",
   "metadata": {},
   "source": [
    "### Problem 1-12\n",
    "\n",
    "The mean temperature of the Earth's surface is 288 K. Calculate the wavelength at the maximum of the Earth's blackbody radiation. What part of the electromagnetic spectrum (see Fig. 1.11) does this wavelength correspond to?\n",
    "\n",
    "Hints:\n",
    "1. When declaring your variables, `algebra_with_sympy` needs the spelling of `lamda` to produce the symbol $\\lambda$. Therefore, to declare the math variable $\\lambda_{\\rm max}$, the wavelength of maximal intensity, use\n",
    "```\n",
    "var('lamda_max')\n",
    "```\n",
    "2. Numbers written in scientific notation can be represented in Python using the symbol `E` to refer to the power of 10, i.e., `1E3` is equivalent to $1\\times 10^3$.\n",
    "3. To answer the \"what part of the electromagnetic spectrum...\" part of the question, use a `print()` statement in a code cell!"
   ]
  },
  {
   "cell_type": "code",
   "execution_count": null,
   "id": "5f7585d9-24d7-441c-b848-b409b4dd4a2a",
   "metadata": {},
   "outputs": [],
   "source": []
  },
  {
   "cell_type": "markdown",
   "id": "ac98a383-0a69-42a0-8f67-f1e90e2227bc",
   "metadata": {},
   "source": [
    "### Problem 1-14\n",
    "The power output of a laser is measured in units of watts (W; 1 W = 1 J$\\cdot$s$^{-1}$). What is the number of photons emitted per second by a 1.00 mW nitrogen laser? The wavelength emitted by a nitrogen laser is 337 nm."
   ]
  },
  {
   "cell_type": "code",
   "execution_count": null,
   "id": "17f2c3f7-8f0f-466a-96bb-c64cba7bfcba",
   "metadata": {},
   "outputs": [],
   "source": []
  },
  {
   "cell_type": "code",
   "execution_count": null,
   "id": "694cb46f-638e-4b4f-937e-f836bf5d992a",
   "metadata": {},
   "outputs": [],
   "source": []
  },
  {
   "cell_type": "markdown",
   "id": "f4c31fc6-8772-4f2f-807b-0485f51adf5e",
   "metadata": {},
   "source": [
    "### Problem 1-16\n",
    "\n",
    "The threshold wavelength for postassium metal is 564 nm. What is its work function? What is the kinetic energy of electrons ejected if radiation of wavelength 410 nm is used?"
   ]
  },
  {
   "cell_type": "code",
   "execution_count": null,
   "id": "a8068880-49e7-469c-a5be-4b861d95b4b6",
   "metadata": {},
   "outputs": [],
   "source": []
  },
  {
   "cell_type": "code",
   "execution_count": null,
   "id": "baeaac75-dffc-4cc9-ab71-8d92add80b3d",
   "metadata": {},
   "outputs": [],
   "source": []
  },
  {
   "cell_type": "code",
   "execution_count": null,
   "id": "bd9045cc-a5b6-47b5-b9e7-733d5ed52e31",
   "metadata": {},
   "outputs": [],
   "source": []
  },
  {
   "cell_type": "markdown",
   "id": "875ef456-50b4-4dc1-aeba-99042edafc04",
   "metadata": {},
   "source": [
    "### Problem 1-18\n",
    "\n",
    "When a clean surface of silver is irradiated with light of wavelength 230 nm, the kinetic energy of the ejected electrons is found to be 0.805 eV. Calculate the work function and the threshold frequency of silver."
   ]
  },
  {
   "cell_type": "code",
   "execution_count": null,
   "id": "a826ddfe-70f5-478a-93fa-5e4d19386014",
   "metadata": {},
   "outputs": [],
   "source": []
  },
  {
   "cell_type": "code",
   "execution_count": null,
   "id": "617b697b-5d36-4e88-9b3c-6fb27c615b96",
   "metadata": {},
   "outputs": [],
   "source": []
  },
  {
   "cell_type": "code",
   "execution_count": null,
   "id": "a391a4ac-ec93-4f2f-bafc-101495dae53d",
   "metadata": {},
   "outputs": [],
   "source": []
  },
  {
   "cell_type": "code",
   "execution_count": null,
   "id": "5e388bd4-6b2a-49d1-8744-b0ca8fb9ef67",
   "metadata": {},
   "outputs": [],
   "source": []
  },
  {
   "cell_type": "code",
   "execution_count": null,
   "id": "f91a15ec-2f1c-48de-bbd3-9d522c0530ef",
   "metadata": {},
   "outputs": [],
   "source": []
  },
  {
   "cell_type": "markdown",
   "id": "77c40c62-2539-444d-b7aa-5fbf63184579",
   "metadata": {},
   "source": [
    "### Problem 1-20\n",
    "\n",
    "Use the Rydberg formula (Eqn. 1.10) to calculate the wavelengths of the first three lines of the Lyman series ($n_1 = 1$, $n_2 = 2,\\,3,\\,\\ldots$). "
   ]
  },
  {
   "cell_type": "code",
   "execution_count": null,
   "id": "613375c1-322f-4abc-8727-781000ef85a4",
   "metadata": {},
   "outputs": [],
   "source": []
  },
  {
   "cell_type": "code",
   "execution_count": null,
   "id": "28595aa9-6eea-4eef-96df-801d6d440fd4",
   "metadata": {},
   "outputs": [],
   "source": []
  },
  {
   "cell_type": "code",
   "execution_count": null,
   "id": "dca73d89-bad7-43d0-89bb-699f855e653d",
   "metadata": {},
   "outputs": [],
   "source": []
  },
  {
   "cell_type": "code",
   "execution_count": null,
   "id": "8b9e3d2e-bff4-4624-9c03-49b5624ca06b",
   "metadata": {},
   "outputs": [],
   "source": []
  },
  {
   "cell_type": "markdown",
   "id": "60504b5b-9849-45ff-8ed0-ba3f0c090d5b",
   "metadata": {},
   "source": [
    "### Problem 1-22\n",
    "\n",
    "A ground-state hydrogen atom absorbs a photon of light that has a wavelength of 97.2 nm. It then gives off a photon that has a wavelength of 486 nm. What is the final state of the hydrogen atom?"
   ]
  },
  {
   "cell_type": "code",
   "execution_count": null,
   "id": "255e92a0-36bd-4540-8cf7-1378375ba5d5",
   "metadata": {
    "scrolled": true
   },
   "outputs": [],
   "source": []
  },
  {
   "cell_type": "code",
   "execution_count": null,
   "id": "0f4b8ab8-f4d1-480f-8d9c-d5ea50c5fa2e",
   "metadata": {
    "scrolled": true
   },
   "outputs": [],
   "source": []
  },
  {
   "cell_type": "markdown",
   "id": "589d7d05-d252-40cd-b2b3-1bbc6ceb23d9",
   "metadata": {},
   "source": [
    "Final state of the H atom: $n = 2$"
   ]
  },
  {
   "cell_type": "markdown",
   "id": "d7dcba2b-d672-420f-9dd1-87223f1aaee7",
   "metadata": {},
   "source": [
    "### Problem 1-25\n",
    "\n",
    "Calculate the de Broglie wavelength for (a) and electron with KE = 100 eV, (b) a proton with KE = 100 eV, and (c) an electron in the first Bohr orbit of the H atom."
   ]
  },
  {
   "cell_type": "code",
   "execution_count": null,
   "id": "4b863d2b-2f81-49c4-bcae-d2abdaf36f47",
   "metadata": {},
   "outputs": [],
   "source": []
  },
  {
   "cell_type": "markdown",
   "id": "4154c7e9-9603-42ef-9bc4-78e5a18b3bc3",
   "metadata": {},
   "source": [
    "### Problem 1-35\n",
    "\n",
    "If we locate an electron to within 20 pm, then what is the uncertainty in its speed?\n",
    "\n",
    "Hint: Define the Heisenberg uncertainty as the equality\n",
    "$$\\sigma_x\\sigma_p = h$$\n",
    "because inequalities are much more difficult to work with in `algebra_with_sympy`."
   ]
  },
  {
   "cell_type": "code",
   "execution_count": null,
   "id": "c8c06072-11f9-4154-af8d-974286b27efe",
   "metadata": {},
   "outputs": [],
   "source": []
  },
  {
   "cell_type": "markdown",
   "id": "7e9de172-f68d-473c-be03-a7be5f77b106",
   "metadata": {},
   "source": [
    "### Problem 1-40\n",
    "\n",
    "Another uncertainty principle exists between energy and time:\n",
    "$$\\Delta E\\Delta t \\geq h$$\n",
    "One application of this relationship has to do with the energies and lifetimes of excited states of atoms and molecules. If we know that the lifetime of an excited state is 1 ns, what is the uncertainty in the energy of this state?"
   ]
  },
  {
   "cell_type": "code",
   "execution_count": null,
   "id": "129cece7-be26-4998-b8e7-4a98ec348177",
   "metadata": {},
   "outputs": [],
   "source": []
  },
  {
   "cell_type": "markdown",
   "id": "79efeb9e-c726-4643-98b2-d0277eb47ba2",
   "metadata": {},
   "source": [
    "### Problem 1-44\n",
    "\n",
    "Ionizing a hydrogen atom in its electronic ground state requires $2.179\\times 10^{-18}\\ {\\rm J}$ of energy. The sun's surface has a temperature of approximately 6000 K and is composed, in part, of atomic hydrogen. Is the hydrogen present as H(g) or H$^+$(g)? What is the temperature required so that the maximum wavelength of the emission of a blackbody ionizes atomic hydrogen? In what region of the electromagnetic spectrum is this wavelength found?"
   ]
  },
  {
   "cell_type": "code",
   "execution_count": null,
   "id": "69ba928f-738e-43ac-be2d-ffc926488948",
   "metadata": {},
   "outputs": [],
   "source": []
  },
  {
   "cell_type": "code",
   "execution_count": null,
   "id": "79cf6477-419a-4458-a7c0-a0e4ec1b408b",
   "metadata": {},
   "outputs": [],
   "source": []
  },
  {
   "cell_type": "markdown",
   "id": "1c7e0f9e-37e4-4d38-b6f3-45fb6c0f0fd0",
   "metadata": {},
   "source": [
    "### Challenge Problem\n",
    "\n",
    "In Figure 1.10, three \"series\" of atomic emission lines are visualized, which are named after the scientists who spectroscopically characterized them. Looking closely at the Lyman series (involving electrons falling down to the ground state, $n=1$), the lines appear to \"bunch up\" as the initial energy level $n_1\\rightarrow\\infty$, with the _electron attachment_ process\n",
    "$${\\rm H}(n = \\infty) = {\\rm H}^+ + e^- \\rightarrow {\\rm H}(n = 1)$$\n",
    "representing the largest possible amount of energy being released, and consequently, the smallest observable wavelength.\n",
    "\n",
    "(a) Determine the wavelength of light which would be emitted by the Hydrogen atom in the electron attachment reaction above.\n",
    "\n",
    "(b) Using a Python `for` loop with the built-in `range()` function and a `break` statement, iteratively determine the \"limit\" of the Lyman series to a precision of 1 pm, i.e., find the numerical value approached by $\\lambda$ when $n_1 = 1$ and as $n_2\\rightarrow\\infty$.\n",
    "\n",
    "Hints:\n",
    "1. Use the custom function `solve_and_evaluate()` written by Dr. Sirianni to, well, solve and evaluate equations.\n",
    "2. You want to continue to keep constructing lines in the Lyman series until successive wavelengths agree to within the tolerance of 1 pm.\n",
    "    - Assign a Python variable `tol` that has the numerical value of the \"pico\" metric prefix.\n",
    "    - After computing the wavelength of the \"next\" line in the series, calculate the residual difference bewteen the \"next\" wavelength and your \"previous\" one by copying the following line of code:\n",
    "        ```\n",
    "        resid = abs((next - prev).as_two_terms()[0])\n",
    "        ```\n",
    "    - Use a Python [`if-break`](https://docs.python.org/3/tutorial/controlflow.html#break-and-continue-statements-and-else-clauses-on-loops) logical control statement to test if your residual is smaller than the tolerance, and cease iterating if it is."
   ]
  },
  {
   "cell_type": "code",
   "execution_count": null,
   "id": "667b07a7-3e6a-4a61-a4df-f2b6be260b28",
   "metadata": {},
   "outputs": [],
   "source": []
  },
  {
   "cell_type": "code",
   "execution_count": null,
   "id": "7c0868ec-ac45-4efb-9370-b614767faf2f",
   "metadata": {},
   "outputs": [],
   "source": []
  }
 ],
 "metadata": {
  "kernelspec": {
   "display_name": "Python 3 (ipykernel)",
   "language": "python",
   "name": "python3"
  },
  "language_info": {
   "codemirror_mode": {
    "name": "ipython",
    "version": 3
   },
   "file_extension": ".py",
   "mimetype": "text/x-python",
   "name": "python",
   "nbconvert_exporter": "python",
   "pygments_lexer": "ipython3",
   "version": "3.11.9"
  }
 },
 "nbformat": 4,
 "nbformat_minor": 5
}
