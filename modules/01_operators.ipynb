{
 "cells": [
  {
   "cell_type": "markdown",
   "id": "fc699eaa-4a70-4c4a-9128-c6c189e70603",
   "metadata": {},
   "source": [
    "Lesson 0.1: What is a quantum mechanical operator?\n",
    "===\n",
    "\n",
    "Quantum mechanics is concerned with solving a special differential equation known as the time-independent wave equation (TIWE)\n",
    "$$\\hat{H}\\Psi = E\\Psi,$$\n",
    "where $\\Psi$ is the _wavefunction_, which contains all knowable information about the particle(s) it describes, $\\hat{H}$ is the Hamiltonian operator defining the parameters of the system under consideration, and $E$ is the total energy of the particle(s) in their given system. Before we explore the TIWE and its solutions for particular systems of interest more deeply, let's take a look at what an _operator_ is, what it does, and how it can be used to extract chemical and physical meaning from the system at hand.\n",
    "\n",
    "## Learning Outcomes\n",
    "At the end of this lesson, students will be able to...\n",
    "1. Define code expressions representing the mathematical definition of an operator using the `algebra_with_sympy` library,\n",
    "2. Test and identify various operator properties\n",
    "\n",
    "## Prerequisites\n",
    "- Basic conceptual familiarity with operators\n",
    "- Basic knowledge of Python and `algebra_with_sympy` (Lesson 00)\n",
    "\n",
    "## Resources\n",
    "- [MolSSI CMS Python Workshop: Introduction](https://education.molssi.org/python_scripting_cms/01-introduction/index.html)\n",
    "- [Algebra with SymPy Documentation](https://gutow.github.io/Algebra_with_Sympy/algebra_with_sympy.html)\n",
    "- [Demonstrations of `algebra_with_sympy` functionality with the `Equation` class](https://gutow.github.io/Algebra_with_Sympy/Demonstration%20of%20equation%20class.html)\n",
    "\n",
    "## Python Environment Setup\n",
    "This module requires the SciPy stack and the `sympy` library. If you can't execute the following cell, make sure you install any missing packages!"
   ]
  },
  {
   "cell_type": "code",
   "execution_count": null,
   "id": "24366ff5-69ef-4008-933a-db0a7fa94f01",
   "metadata": {},
   "outputs": [],
   "source": [
    "# EXECUTE (shift+ENTER): Import some packages that we will use later\n",
    "from algebra_with_sympy import * # Automatically imports sympy\n",
    "print(\"This notebook is running Algebra_with_Sympy version \" + str(algwsym_version)+\".\")\n",
    "from IPython.display import display, Markdown"
   ]
  },
  {
   "cell_type": "markdown",
   "id": "61e9e494-f8eb-4784-aed3-2ff650a27811",
   "metadata": {},
   "source": [
    "## Operators and their Properties\n",
    "\n",
    "In general, operators (denoted by a capital, italicized letter wearing a \"hat\", e.g., $\\hat{O}$) are mathematical entities that collect  operations together and \"act\" to transform a function, vector, or scalar (constant) number into something else:\n",
    "$$\\hat{O}f = g$$\n",
    "In this expression, we have made no assumptions about what any of $\\hat{O}$, $f$, or $g$ actually look like! So what are some possibilities?\n",
    "\n",
    "| Operator Definition         | Action on constant $c$, variable $x$, or function $f(x)$ | English translation                              |\n",
    "|-----------------------------|----------------------------------------------------------|--------------------------------------------------|\n",
    "| $\\hat{X} := x\\cdot$         | $\\hat{X}f(x) = x\\cdot f(x)$                              | Multiply to the right by $x$                     |\n",
    "| $\\hat{D}_x := \\frac{d}{dx}$ | $\\hat{D}_x f(x) = \\frac{d}{dx}f(x) = f'(x)$              | Differentiate $f(x)$ with respect to $x$         |\n",
    "| ${\\rm SQRT} := \\sqrt{\\;\\;}$ | ${\\rm SQRT} f(x) = \\sqrt{f(x)}$                          | Take the square root of $f(x)$                   |\n",
    "\n",
    "In the cells below, you'll have the chance to practice applying some operators to a few functions using the `algebra_with_sympy` library to handle the mathematics both symbolically and numerically.\n",
    "\n",
    "### I. Defining trial objects: constants, variables, & functions\n",
    "\n",
    "Since operators _change a mathematical object into something else_, let's define some trial objects to start with."
   ]
  },
  {
   "cell_type": "code",
   "execution_count": null,
   "id": "441d7004-6e53-49ef-aebd-a49c72c97a9c",
   "metadata": {},
   "outputs": [],
   "source": [
    "# YOUR TURN: Define a variable for at least one constant, variable, and function\n",
    "# Define a constant (use Python; just pick a number) & print it\n",
    "c = \n",
    "display(Markdown(rf\"$c = {latex(c)}$\"))\n",
    "\n",
    "# Define the variable x (use algebra_with_sympy) & print it\n",
    "\n",
    "display(Markdown(rf\"${latex(x)}$\"))\n",
    "\n",
    "# Define an arbitrary function f(x) (use sympy) & print it\n",
    "f = Function('f')(x)\n",
    "display(Markdown(rf\"$f(x) = {latex(f)}$\"))\n",
    "\n",
    "# Define g(x) = sin(x) using sympy & print it\n",
    "g = \n",
    "display(Markdown(rf\"$g = {latex(g)}$\"))"
   ]
  },
  {
   "cell_type": "markdown",
   "id": "98be96e2-d905-4d09-ae62-8ed4d8e1bf80",
   "metadata": {},
   "source": [
    "### II. How do operators behave?\n",
    "\n",
    "Now, let's apply the operators we listed in the table above to our trial objects!\n",
    "\n",
    "#### _Student Prediction_\n",
    "\n",
    "Double click this cell & type your responses **after each `>`**, then execute the cell (`Shift+Enter`) to save them. \n",
    "\n",
    "What do you expect the result to be when applying the given operator to each of the trial objects you defined in the cell above? Don't worry about the formatting, a written description is sufficient.\n",
    "1. $\\hat{X} c =$ ?\n",
    "    > Type your response here!\n",
    "2. ${\\rm SQRT} x =$ ?\n",
    "    > Type your response here!\n",
    "3. $\\hat{D} f(x) =$ ?\n",
    "    > Type your response here!\n",
    "4. $\\hat{D} g(x) =$ ?\n",
    "    > Type your response here!\n",
    "\n",
    "Now, in the cell below, apply the $\\hat{X}$ operator to each of our trial objects.\n",
    ">**Hint**: If you don't remember the syntax for taking the derivative of an expression, refer to the [Derivatives section of the `algebra_with_sympy` extra documentation](https://gutow.github.io/Algebra_with_Sympy/Demonstration%20of%20equation%20class.html#Differentiation)."
   ]
  },
  {
   "cell_type": "code",
   "execution_count": null,
   "id": "8b5b0be4-4c30-4c6d-9a48-1e716645f079",
   "metadata": {},
   "outputs": [],
   "source": [
    "# YOUR TURN: Test your predictions from above!\n",
    "# X c = ?\n",
    "result = \n",
    "display(Markdown(rf\"1. $\\hat{{X}} c = {latex(result)}$\"))\n",
    "\n",
    "# SQRT x = ?\n",
    "result = \n",
    "display(Markdown(rf\"2. ${{\\rm SQRT}} x = {latex(result)}$\"))\n",
    "\n",
    "# D f(x) = ?\n",
    "result = \n",
    "display(Markdown(rf\"3. $\\hat{{D}}_x f = {latex(result)}$\"))\n",
    "\n",
    "# D g(x) = ?\n",
    "result = \n",
    "display(Markdown(rf\"4. $\\hat{{D}}_x g = {latex(result)}$\"))"
   ]
  },
  {
   "cell_type": "markdown",
   "id": "d8044e52-435b-45e6-a6d9-86d2af3bcd71",
   "metadata": {},
   "source": [
    "#### _Student Reflection_\n",
    "\n",
    "Did the results of the operations in the previous cell match your predictions? If they didn't, what was different & why did you predict what you did?\n",
    "> Type your response here!\n"
   ]
  },
  {
   "cell_type": "markdown",
   "id": "b72099ec-e6e1-443f-a2bb-7c5b03d9abd4",
   "metadata": {},
   "source": [
    "### III. `sympy` Interlude: Evaluation of a Derivative\n",
    "\n",
    "Looking at the results of applying the derivative operator $\\hat{D}_x$ to the functions $f=f(x)$ and $g=g(x)=\\sin{x}$, we should have seen that `sympy` has behaved differently depending on whether we have explicitly defined the function on which $\\hat{D}_x$ is operating. For example, when I defined my function $g(x) = \\cos{x}$, the result of applying the derivative operator is\n",
    "$$\\hat{D}_x g = \\frac{d}{dx}g(x) = -\\sin{x},$$\n",
    "while the derivative operator acting on the arbitrary (i.e., yet-to-be-defined) function $f = f(x)$ produces only\n",
    "$$\\hat{D}_x f = \\frac{d}{dx}f(x) = f'(x).$$\n",
    "This is because, without knowing what $f(x)$ looks like, $\\hat{D}_x$ is unable to _evaluate_ the derivative. Instead, $\\hat{D}_x$ can only return a statement to the effect of \"the derivative of $f(x)$ with respect to $x$ is $\\frac{d}{dx}f(x)$,\" which while seeming a bit less than helpful, actually provides an opportunity to talk about `sympy` functionality.\n",
    "\n",
    "Whenever we take the derivative of an expression using `diff(...)`, it is automatically evaluated if it is possible to do so. Without defining a new Python variable to store the function $\\cos{x}$, compute its derivative using `diff()`:"
   ]
  },
  {
   "cell_type": "code",
   "execution_count": null,
   "id": "9517d097-0837-49b5-8bc3-38b949dde694",
   "metadata": {},
   "outputs": [],
   "source": [
    "# YOUR TURN: Evaluate the derivative of cos(x) using sympy\n"
   ]
  },
  {
   "cell_type": "markdown",
   "id": "4928f726-16bf-471c-b775-ec580e58c7ac",
   "metadata": {},
   "source": [
    "What if, however, we _didn't_ want `sympy` to evaluate the derivative, but merely wanted to _set it up_? For that, we can use the `sympy` function `Derivative()` whose syntax is exactly the same as `diff()`, but which **does not _evaluate_ the expression automatically.** \n",
    "\n",
    "Using the cell below, _define_ $\\frac{d}{dx}\\cos{x}$ with `Derivative()` without executing the operation."
   ]
  },
  {
   "cell_type": "code",
   "execution_count": null,
   "id": "a8087481-50ee-4142-916d-7a4e6e0e554a",
   "metadata": {},
   "outputs": [],
   "source": [
    "# YOUR TURN: Define derivative of cos(x) using Derivative(cos(x))\n",
    "deriv = "
   ]
  },
  {
   "cell_type": "code",
   "execution_count": null,
   "id": "e3fc1173-d448-46ed-9d2e-47fe05aa4596",
   "metadata": {},
   "outputs": [],
   "source": [
    "# EXECUTE: What does an unevaluated derivative look like?\n",
    "print(deriv)"
   ]
  },
  {
   "cell_type": "markdown",
   "id": "d0e3d498-6330-4344-9993-55bf88994d8b",
   "metadata": {},
   "source": [
    "Then, when we decide we finally _do_ want `sympy` to evaluate the derivative we've just defined, we can use the `.doit()` dot-function:"
   ]
  },
  {
   "cell_type": "code",
   "execution_count": null,
   "id": "faa05f00-514f-42ad-a934-08fae54105b6",
   "metadata": {},
   "outputs": [],
   "source": [
    "# EXECUTE: Just execute this cell\n",
    "deriv.doit()"
   ]
  },
  {
   "cell_type": "markdown",
   "id": "781d0275-17a7-402f-bba4-82542364b4d3",
   "metadata": {},
   "source": [
    "Remember, these dot functions (technically called _methods_ of the `Derivative` _class_) are not a standalone function, but rather come in the toolbelt of the `Derivative` object that we just defined.\n",
    "\n",
    "### IV. Operator Properties\n",
    "\n",
    "Now that we have become acquainted with the basics of what the example operators $\\hat{X}$, $\\hat{D}$, and ${\\rm SQRT}$ _do_, let's explore some more general operator properties that will be used throughout the next few modules.  \n",
    "\n",
    "#### Property 1: Operators are applied in the order they are written, \"inside out\".\n",
    "For example, if $\\hat{A}g = h$ and $\\hat{B}f = g$, the result of applying both operators will be given by:\n",
    "    $$\\hat{A}\\hat{B}f = \\hat{A}\\left[\\hat{B}f\\right] = \\hat{A}g = h$$\n",
    "\n",
    "For example, let's consider the operators $\\hat{X}$ and $\\hat{D}_x$ and our function $g(x) = \\sin{x}$. In the cell below, evaluate the expression $\\hat{X}\\hat{D}_x g(x)$."
   ]
  },
  {
   "cell_type": "code",
   "execution_count": null,
   "id": "990f97d4-78e7-4484-95f6-0c5cf8818d1a",
   "metadata": {},
   "outputs": [],
   "source": [
    "# YOUR TURN: Evaluate X Dx g\n",
    "result = \n",
    "\n",
    "display(Markdown(rf\"$\\hat{{X}}\\hat{{D}}_x sin(x) = {latex(result)}$\"))"
   ]
  },
  {
   "cell_type": "markdown",
   "id": "a2af8776-6b46-4da1-8099-b5d4b9df261c",
   "metadata": {},
   "source": [
    "#### Property 2: Operator Commutivity\n",
    "\n",
    "Operators aren't guaranteed to _commute_, meaning that they may yield different results if applied in a different order. For example:\n",
    "    $$\\hat{A}\\hat{B}f \\neq \\hat{B}\\hat{A}f$$\n",
    "In the cell below, evaluate the expression $\\hat{D}_x\\hat{X}g(x)$."
   ]
  },
  {
   "cell_type": "markdown",
   "id": "4929da09-2f73-4e58-b8d2-5d3ef6490eeb",
   "metadata": {},
   "source": [
    "#### _Student Prediction_\n",
    "\n",
    "Do you expect $\\hat{D}_x\\hat{X}$ to produce the same result as $\\hat{X}\\hat{D}_x$ did in the cell above?\n",
    "> Type your response here!\n"
   ]
  },
  {
   "cell_type": "code",
   "execution_count": null,
   "id": "d10ef455-ed04-42a6-88a7-739bb329d9ee",
   "metadata": {},
   "outputs": [],
   "source": [
    "# YOUR TURN: Evaluate Dx X g\n",
    "result = \n",
    "\n",
    "display(Markdown(rf\"$\\hat{{D}}_x\\hat{{X}} sin(x) = {latex(result)}$\"))"
   ]
  },
  {
   "cell_type": "markdown",
   "id": "1b32ffde-4d05-49ed-a885-9f21d94f66bf",
   "metadata": {},
   "source": [
    "#### _Student Reflection_\n",
    "\n",
    "Based on your results, do the operators $\\hat{X}$ and $\\hat{D}_x$ commute?\n",
    "> Type your response here!\n",
    "\n",
    "Would you predict that the operators $\\hat{Y} = y\\cdot$ and $\\hat{D}_x = \\frac{d}{dx}$ would commute? Why or why not?\n",
    "> Type your response here!"
   ]
  },
  {
   "cell_type": "markdown",
   "id": "d3c8c78e-81b9-44de-a494-b5d576d53e07",
   "metadata": {},
   "source": [
    "Even though we can continue to eyeball whether the results of our code are symbolically equal, we can also make use of the `.equals()` function in SymPy that comes with defined expressions. To see how it works, execute the cell below!"
   ]
  },
  {
   "cell_type": "code",
   "execution_count": null,
   "id": "86b36c77-b343-4867-9ad1-e5bfbba31540",
   "metadata": {},
   "outputs": [],
   "source": [
    "# Execute: Test of expression equality with SymPy\n",
    "XDxg =     # redefine X*Dx*g\n",
    "DxXg =     # redefine Dx*X*g\n",
    "\n",
    "print(DxXg.equals(XDxg))"
   ]
  },
  {
   "cell_type": "markdown",
   "id": "51a27e18-29cc-4c47-941e-98c82b49d16f",
   "metadata": {},
   "source": [
    "#### Property 3: An exponent raised to a power is applied successively\n",
    "An operator raised to a positive, whole-number power $n$ corresponds to the successive application of that operator $n$ times, i.e.,\n",
    "$$\\hat{O}^n f = \\hat{O}\\left[\\hat{O}\\left[\\hat{O}\\left[\\ldots\\left[\\hat{O} f\\right]\\right]\\right]\\right];$$\n",
    "it is important to note that in general $\\hat{O}^n f \\neq \\left[\\hat{O} f\\right]^n$. In fact, this is the same way we typically write multiple derivatives in calculus. For example, writing the second derivative of the function $x^2$ like\n",
    "$$\\frac{d^2}{dx^2} x^2 = \\frac{d}{dx}\\left(\\frac{d}{dx} x^2\\right) = \\frac{d}{dx} 2x = 2$$\n",
    "is exactly the same as using the operator notation\n",
    "$$\\hat{D}_x^2 x^2 = \\hat{D}_x\\left[\\hat{D}_x x^2\\right] = \\hat{D}_x 2x = 2$$"
   ]
  },
  {
   "cell_type": "code",
   "execution_count": null,
   "id": "8c269171-130e-48af-b84e-821cc1dee45f",
   "metadata": {},
   "outputs": [],
   "source": [
    "# YOUR TURN: Compute the fourth derivative of sin(x) using sympy two ways\n",
    "\n",
    "# One derivative at a time\n",
    "print(\"Differentiating one at at time...\\n\")\n",
    "first =      # Evaluate first derivative\n",
    "display(Markdown(rf\"First derivative: $\\frac{{d}}{{dx}}\\sin{{x}} = {latex(first)}$\"))\n",
    "second =     # Evaluate second derivative\n",
    "display(Markdown(rf\"Derivative of first derivative: $\\frac{{d}}{{dx}}\\left[\\frac{{d}}{{dx}}\\sin{{x}}\\right] = {latex(first)}$\"))\n",
    "third =      # Evaluate third derivative\n",
    "display(Markdown(rf\"Derivative of second derivative: $\\frac{{d}}{{dx}}\\left[\\frac{{d}}{{dx}}\\left[\\frac{{d}}{{dx}}\\sin{{x}}\\right]\\right] = {latex(third)}$\"))\n",
    "fourth =     # Evaluate fourth derivative \n",
    "display(Markdown(rf\"Derivative of third derivative: $\\frac{{d}}{{dx}}\\left[\\frac{{d}}{{dx}}\\left[\\frac{{d}}{{dx}}\\left[\\frac{{d}}{{dx}}\\sin{{x}}\\right]\\right]\\right] = {latex(fourth)}$\"))\n",
    "\n",
    "# All at once: f''''(x) = diff(f,x,4)\n",
    "print(\"\\nDifferentiating all at once...\\n\")\n",
    "DDDD = \n",
    "display(Markdown(rf\"Fourth derivative: $\\frac{{d^4}}{{dx^4}}\\sin{{x}} = {latex(DDDD)}$\"))\n",
    "\n",
    "# Are the two fourth derivatives equal?\n",
    "print(f\"\\nThe stepwise and all-at-once fourth derivatives are equal: {fourth.equals(DDDD)}\")"
   ]
  },
  {
   "cell_type": "markdown",
   "id": "c53a07e2-d3ec-4b28-98fb-2079b7eaab03",
   "metadata": {},
   "source": [
    "#### Property 4: An operator $\\hat{O}$ is called _linear_ if it distributes into an expression in the normal way.\n",
    "For constants $a$, $b$ and functions $f$, $g$, a linear operator $\\hat{O}$ will behave like\n",
    "    $$\\hat{O}\\left(a\\cdot f \\pm b\\cdot g\\right) = a\\,\\hat{O}\\,f \\pm b\\,\\hat{O}\\,g$$\n",
    "\n",
    "This property is of particular interest to us because, as it turns out, all physically observable (measurable) quantities from classical mechanics are represented in quantum mechanics by a linear operator. \n",
    "\n",
    "To see how this works, let's define a new function \n",
    "$$h(x) = 5\\sin{x} + 3\\pi x^2$$\n",
    "Given this function, we would expect a generic linear operator $\\hat{O}$ to distribute like\n",
    "$$\\hat{O} h(x) = 5\\hat{O}\\sin{x} + 3\\pi\\hat{O} x^2.$$"
   ]
  },
  {
   "cell_type": "markdown",
   "id": "d79ed29f-d4d2-4ed3-87e2-1613f3ed6066",
   "metadata": {},
   "source": [
    "#### _Student Prediction_\n",
    "\n",
    "Which of the operators $\\hat{X}$, $\\hat{D}_x$, and ${\\rm SQRT}$, if any, do you expect to be linear?\n",
    "> Type your response here!\n"
   ]
  },
  {
   "cell_type": "code",
   "execution_count": null,
   "id": "6607e317-9fdf-4d1a-baeb-a673c05e1c84",
   "metadata": {},
   "outputs": [],
   "source": [
    "# YOUR TURN: Define h(x)\n",
    "# Define h(x)\n",
    "h = \n",
    "\n",
    "# Now compute LHS = O*h & RHS = 5*O*sin(x) + 3*pi*O*(x**2) of expression above to test linearity for each operator below\n",
    "#O = X\n",
    "display(Markdown(rf\"1. $\\hat{{X}}$:\"))\n",
    "# LHS: \n",
    "lhs = \n",
    "display(Markdown(rf\"LHS: ${latex(lhs)}$\"))\n",
    "# RHS: \n",
    "rhs = \n",
    "display(Markdown(rf\"RHS: ${latex(rhs)}$\"))\n",
    "# Test linearity\n",
    "display(Markdown(rf\"Is $\\hat{{X}}$ linear? {'Yes!' if lhs.equals(rhs) else 'NO!'}\"))\n",
    "\n",
    "# O = SQRT\n",
    "display(Markdown(rf\"2. ${{\\rm SQRT}}$:\"))\n",
    "# LHS:\n",
    "lhs = \n",
    "display(Markdown(rf\"LHS: ${latex(lhs)}$\"))\n",
    "# RHS: \n",
    "rhs = \n",
    "display(Markdown(rf\"RHS: ${latex(rhs)}$\"))\n",
    "# Test linearity\n",
    "display(Markdown(rf\"Is ${{\\rm SQRT}}$ linear? {'Yes!' if lhs.equals(rhs) else 'NO!'}\"))\n",
    "\n",
    "# O = Dx\n",
    "display(Markdown(rf\"3. $\\hat{{D}}_x$:\"))\n",
    "# LHS:\n",
    "lhs = \n",
    "display(Markdown(rf\"LHS: ${latex(lhs)}$\"))\n",
    "# RHS: \n",
    "rhs = \n",
    "display(Markdown(rf\"RHS: ${latex(rhs)}$\"))\n",
    "# Test linearity\n",
    "display(Markdown(rf\"Is $\\hat{{X}}$ linear? {'Yes!' if lhs.equals(rhs) else 'NO!'}\"))"
   ]
  },
  {
   "cell_type": "markdown",
   "id": "2f0bb4af-54fb-44ca-bb4d-bf9095f1cf95",
   "metadata": {},
   "source": [
    "#### _Student Reflection_\n",
    "\n",
    "Were your predictions about the linearity of $\\hat{X}$, ${\\rm SQRT}$, and $\\hat{D}_x$ correct? Did your findings above match your prior algebraic experiences?\n",
    "> Type your response here!"
   ]
  },
  {
   "cell_type": "markdown",
   "id": "0c7fc952-1af1-4b30-bb05-316a9c3eb48f",
   "metadata": {},
   "source": [
    "### V. Eigenvalue Problems\n",
    "\n",
    "For some operators, there exist a set of functions ${f}$ for which the operator's application returns the same function multiplied by a (potential complex valued) constant:\n",
    "$$\\hat{A}f(x) = af(x)$$\n",
    "The above expression is called an _eigenvalue equation_; a function $f(x)$ for which this equation is true is called an _eigenfunction_ or _eigenstate_ of the operator $\\hat{A}$, and the constant $a$ is called its _eigenvalue_.\n",
    "\n",
    ">The word _\"eigen\"_ is German for \"own,\" meaning that the eigenfunction of an operator is its \"own function\".\n",
    "\n",
    "Eigenvalue equations are of particular interest in quantum mechanics (for many reasons, including that the TIWE _is_ an eigenvalue equation!), but the task of _solving_ an eigenvalue equation for the eigenstate(s) and eigenvalue(s) is not guaranteed to be easy or indeed even possible to do exactly. For now, let's just content ourselves with **testing** if a function is an eigenfunction for a given operator,\n",
    "and determining its eigenvalue if it is one.\n",
    "\n",
    "For each of the following pairs of operator and function, (a) determine if the function is an eigenfunction of the operator, and (b) if so, determine its eigenvalue.\n",
    "\n",
    "| Operator                                                     | Function, $f(x)$                                                  |\n",
    "|--------------------------------------------------------------|-------------------------------------------------------------------|\n",
    "| $$\\hat{O} = \\hat{D}^4_x = \\frac{d^4}{dx^4}$$                 | $$f(x) = e^{\\alpha x}$$                                           |\n",
    "| $$\\hat{O} = \\hat{D}_y = \\frac{d}{dy}$$                       | $$f(x) = x^2 + 3x - 2$$                                           |\n",
    "| $$\\hat{O} = \\hat{P}_x = -i\\hbar\\frac{\\partial}{\\partial x}$$ | $$f(x) = e^{ikx}$$                                                |\n",
    "| $$\\hat{O} = \\hat{D}_x = \\frac{d}{dx}$$                       | $$f(x) = sin(\\pi x)$$                                             |\n",
    "| $$\\hat{O} = -\\frac{\\hbar^2}{2m}\\frac{d^2}{dx^2}$$            | $$f(x) = \\sqrt{\\frac{2}{\\ell}}\\sin{\\frac{n\\pi x}{\\ell}}$$         |"
   ]
  },
  {
   "cell_type": "markdown",
   "id": "d200b065-8c0d-4f6f-a193-887234848922",
   "metadata": {},
   "source": [
    "#### _Student Prediction_\n",
    "\n",
    "Before evaluating the action of the operators onto the functions above, are there any pairs that you can immediately identify _will_ be eigenfunctions? Why or why not?\n",
    "> Type your response here!\n"
   ]
  },
  {
   "cell_type": "markdown",
   "id": "bd3e3172-270a-42d8-b361-6979a43f3a0c",
   "metadata": {},
   "source": [
    "In each cell below, evaluate the operator actions $\\hat{O}f(x)$ from the table above and determine which functions $f(x)$, if any, are eigenstates. If they are an eigenstate, determine the eigenvalue $o$ and prove that the explicit product $o\\cdot f(x)$ is equal to the operator result $\\hat{O}f(x)$ by using `operation_result.equals(product)`."
   ]
  },
  {
   "cell_type": "code",
   "execution_count": null,
   "id": "d84b8800-7a98-433f-91ed-8c5246674de0",
   "metadata": {},
   "outputs": [],
   "source": [
    "# YOUR TURN: O = Dx^4, f = e^{ax}\n",
    "    # <-- Declare any variables you need here\n",
    "f = \n",
    "operation_result = \n",
    "operation_result\n",
    "\n",
    "# If you suspect that f is an eigenstate of O with eigenvalue o, compute the product and test its equality below.\n",
    "#o = \n",
    "#product = o * f\n",
    "#operation_result.equals(product)"
   ]
  },
  {
   "cell_type": "code",
   "execution_count": null,
   "id": "47007e0c-4ea5-4338-a659-33cd2c8315f4",
   "metadata": {},
   "outputs": [],
   "source": [
    "# YOUR TURN: O = Dy, f = x^2 + 3x - 2\n",
    "    # <-- Declare any variables you need here\n",
    "f = \n",
    "operation_result = \n",
    "operation_result\n",
    "\n",
    "# If you suspect that f is an eigenstate of O with eigenvalue o, compute the product and test its equality below.\n",
    "#o = \n",
    "#product = o * f\n",
    "#operation_result.equals(product)"
   ]
  },
  {
   "cell_type": "code",
   "execution_count": null,
   "id": "c91ae622-c9b0-424e-9a2d-261cb5ff7d70",
   "metadata": {},
   "outputs": [],
   "source": [
    "# YOUR TURN: O = Px, f = e^{ikx}\n",
    "# HINT: The symbol for the imaginary number in sympy is capital I\n",
    "# HINT: The symbol hbar can be declared as a variable and it's pretty printed!\n",
    "    # <-- Declare any variables you need here\n",
    "f = \n",
    "operation_result = \n",
    "operation_result\n",
    "\n",
    "# If you suspect that f is an eigenstate of O with eigenvalue o, compute the product and test its equality below.\n",
    "#o = \n",
    "#product = o * f\n",
    "#operation_result.equals(product)"
   ]
  },
  {
   "cell_type": "code",
   "execution_count": null,
   "id": "b4eded4c-e4a2-463f-9448-96fe990c7c62",
   "metadata": {},
   "outputs": [],
   "source": [
    "# YOUR TURN: O = Dx, f = sin(pi*x)\n",
    "    # <-- Declare any variables you need here\n",
    "f = \n",
    "operation_result = \n",
    "operation_result\n",
    "\n",
    "# If you suspect that f is an eigenstate of O with eigenvalue o, compute the product and test its equality below.\n",
    "#o = \n",
    "#product = o * f\n",
    "#operation_result.equals(product)"
   ]
  },
  {
   "cell_type": "code",
   "execution_count": null,
   "id": "c0cf20fc-b999-4c87-bc6f-d26239ab5924",
   "metadata": {},
   "outputs": [],
   "source": [
    "# YOUR TURN: O = -hbar^2 / 2m * Dx^2, f = some unforgivable sin\n",
    "    # <-- Declare any variables you need here\n",
    "f = \n",
    "operation_result = \n",
    "operation_result\n",
    "\n",
    "# If you suspect that f is an eigenstate of O with eigenvalue o, compute the product and test its equality below.\n",
    "#o = \n",
    "#product = o * f\n",
    "#operation_result.equals(product)"
   ]
  }
 ],
 "metadata": {
  "kernelspec": {
   "display_name": "Python 3 (ipykernel)",
   "language": "python",
   "name": "python3"
  },
  "language_info": {
   "codemirror_mode": {
    "name": "ipython",
    "version": 3
   },
   "file_extension": ".py",
   "mimetype": "text/x-python",
   "name": "python",
   "nbconvert_exporter": "python",
   "pygments_lexer": "ipython3",
   "version": "3.11.9"
  }
 },
 "nbformat": 4,
 "nbformat_minor": 5
}
